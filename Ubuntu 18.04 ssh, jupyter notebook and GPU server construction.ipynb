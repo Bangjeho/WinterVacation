{
 "cells": [
  {
   "cell_type": "markdown",
   "metadata": {},
   "source": [
    "# ubuntu create admin"
   ]
  },
  {
   "cell_type": "markdown",
   "metadata": {},
   "source": [
    "**create admin**"
   ]
  },
  {
   "cell_type": "raw",
   "metadata": {},
   "source": [
    "first, Login root admin.\n",
    "\n",
    "$ sudo adduser [username] -> example) sudo adduser Bangjeho\n",
    "\n",
    "New password: #input your passwd\n",
    "Retype new password: #one more time \n",
    "passwd: password updated successfully\n",
    "Changing the user information for happist\n",
    "Enter the new value, or press ENTER for the default\n",
    "    Full Name []: \n",
    "    Room Number []: \n",
    "    Work Phone []: \n",
    "    Home Phone []: \n",
    "    Other []: \n",
    "Is the information correct? [Y/n] Y"
   ]
  },
  {
   "cell_type": "markdown",
   "metadata": {},
   "source": [
    "**your admin use root power**"
   ]
  },
  {
   "cell_type": "raw",
   "metadata": {},
   "source": [
    "usermod -aG sudo [username]"
   ]
  },
  {
   "cell_type": "markdown",
   "metadata": {},
   "source": [
    "# set up ssh server"
   ]
  },
  {
   "cell_type": "markdown",
   "metadata": {},
   "source": [
    "**ssh client already download. So, download ssh server**"
   ]
  },
  {
   "cell_type": "raw",
   "metadata": {},
   "source": [
    "$ sudo apt-get install openssh-server or sudo apt-get install ssh"
   ]
  },
  {
   "cell_type": "markdown",
   "metadata": {},
   "source": [
    "**check to server option file, default port number = 22**"
   ]
  },
  {
   "cell_type": "raw",
   "metadata": {},
   "source": [
    "$ sudo vim /etc/ssh/sshd_config"
   ]
  },
  {
   "cell_type": "raw",
   "metadata": {},
   "source": [
    "#ListenAddress 0.0.0.0 << remove # and input your ip address"
   ]
  },
  {
   "cell_type": "markdown",
   "metadata": {},
   "source": [
    "**ssh server restart command**"
   ]
  },
  {
   "cell_type": "raw",
   "metadata": {},
   "source": [
    "$ sudo service ssh restart"
   ]
  },
  {
   "cell_type": "markdown",
   "metadata": {},
   "source": [
    "**if port 22 is closed, open firewall**"
   ]
  },
  {
   "cell_type": "raw",
   "metadata": {},
   "source": [
    "$sudo ufw enable\n",
    "$sudo ufw allow 22"
   ]
  },
  {
   "cell_type": "markdown",
   "metadata": {},
   "source": [
    "**how to enter server and verify ubuntu server ip**"
   ]
  },
  {
   "cell_type": "raw",
   "metadata": {},
   "source": [
    "*how to verify ubuntu server ip\n",
    "    $ ifconfig\n",
    "    \n",
    "*how to enter server?\n",
    "Mac\n",
    "ssh admin@ipaddress\n",
    "example)\n",
    "       $ ssh Bangjeho@127.0.0.1\n",
    "        if you port number is not 22. \n",
    "       $ ssh Bangjeho@127.0.0.1 -p 9999\n",
    "        9999 is example.\n",
    "        \n",
    "        if your desktop enter server at first time.\n",
    "        you have to read message. may be input y or yes, next input your admin password.\n",
    "        \n",
    "Windows 10\n",
    "download putty and search for yourself how it works."
   ]
  },
  {
   "cell_type": "markdown",
   "metadata": {},
   "source": [
    "# set up jupyter-notebook server"
   ]
  },
  {
   "cell_type": "markdown",
   "metadata": {},
   "source": [
    "**download anaconda and jupyter-notebook**"
   ]
  },
  {
   "cell_type": "raw",
   "metadata": {},
   "source": [
    "search for yourself how anaconda and jupyter download. "
   ]
  },
  {
   "cell_type": "markdown",
   "metadata": {},
   "source": [
    "**create jupyter-notebook config file**"
   ]
  },
  {
   "cell_type": "raw",
   "metadata": {},
   "source": [
    "$ jupyter notebook --generate-config"
   ]
  },
  {
   "cell_type": "markdown",
   "metadata": {},
   "source": [
    "**how to create jupyter-notebook password**"
   ]
  },
  {
   "cell_type": "raw",
   "metadata": {},
   "source": [
    "$ Ipython\n",
    "\n",
    "from notebook.auth import passwd\n",
    "passwd()\n",
    "Enter password: #input your password\n",
    "verify password: #one more time\n",
    "Out[2]: 'sha1:312h314k39gklg49gjlf49fjl' # you must copy this message on your terminal. and paste notepad!!!!"
   ]
  },
  {
   "cell_type": "markdown",
   "metadata": {},
   "source": [
    "**set up jupyter-notebook server**"
   ]
  },
  {
   "cell_type": "raw",
   "metadata": {},
   "source": [
    "*open config file\n",
    "    $ gedit /home/username/.jupyter/jupyter_notebook_config.py\n",
    "\n",
    "*first, enter this code at the top of your config file\n",
    "c = get_config()\n",
    "\n",
    "*accept entering outside. remove # and input '*'\n",
    "#c.NotebookApp.allow_origin = '' -> c.NotebookApp.allow_origin = '*'\n",
    "\n",
    "*set up working directory you want, but you don't have to do it.\n",
    "#c.NotebookApp.notebook_dir = '' -> c.NotebookApp.notebook_dir = 'set/up/directory/you/want'\n",
    "\n",
    "*set up ip address\n",
    "#c.NotebookApp.ip = '' -> c.NotebookApp.ip = 'input.your.server.ip'\n",
    "\n",
    "*set up port number, if you use default port number, you don't have to do it.\n",
    "#c.NotebookApp.port ='8888' -> c.NotebookApp.port = 'want to port number'\n",
    "\n",
    "*set up passwd.\n",
    "#c.NotebookApp.password = '' -> c.NotebookApp.password = u'copy passwd in notepad'\n",
    "example) u'sha1:312h314k39gklg49gjlf49fjl'\n",
    "\n",
    "* browser running or not after start jupyter-notebook.\n",
    "#c.NotebookApp.open_browser = 'True' -> c.NotebookApp.open_browser = 'False'\n",
    "\n",
    "save config file.\n",
    "\n",
    "*how to enter jupyter-notebook\n",
    "    server client input this code on terminal\n",
    "        \n",
    "    $ jupyter-notebook\n",
    "\n",
    "localhost\n",
    "    open your browser and input localhost:port number #default 8888\n",
    "    \n",
    "another desktop\n",
    "    open your browser and input serverip:port number > exam) 127.0.0.1:8888\n",
    "\n"
   ]
  },
  {
   "cell_type": "markdown",
   "metadata": {},
   "source": [
    "**set up anaconda virtual environment with command**"
   ]
  },
  {
   "cell_type": "raw",
   "metadata": {},
   "source": [
    "$ conda create -n (input name) python=3.7 > input using python version you want. \n",
    "\n",
    "*check to virtual environment list\n",
    "$ conda info --envs\n",
    "\n",
    "*use environment\n",
    "$ conda activate (environment name)\n",
    "\n",
    "*deactivate environment\n",
    "$ conda deactivate\n",
    "\n",
    "#if don't work your library in your virtual environment(you download library into your virtual environment), run this code.\n",
    "\n",
    "*first, root environment\n",
    "\n",
    "$ conda install nb_conda nb_conda_kernels\n",
    "\n",
    "$ source activate test(your virtual environment name instead of test)\n",
    "\n",
    "$ conda install nb_conda nb_conda_kernels"
   ]
  },
  {
   "cell_type": "markdown",
   "metadata": {},
   "source": [
    "# setting GPU"
   ]
  },
  {
   "cell_type": "markdown",
   "metadata": {},
   "source": [
    "**download CUDA and CUDNN**"
   ]
  },
  {
   "cell_type": "raw",
   "metadata": {},
   "source": [
    "*first, read to tensorflow document and check CUDA version supported by tensorflow version.\n",
    "\n",
    "https://www.tensorflow.org/install/gpu\n",
    "\n",
    "*set up Nvidia driver\n",
    "\n",
    "$ sudo add-apt-repository ppa:graphics-drivers/ppa\n",
    "$ sudo apt update\n",
    "$ sudo ubuntu-drivers autoinstall\n",
    "$ sudo reboot\n",
    "\n",
    "*if crash occurs during installation, run this code\n",
    "\n",
    "$ sudo apt --purge autoremove nvidia*\n",
    "\n",
    "*set up CUDA, enter this site and download right the your version(OS, Nvidia, tensorflow etc.) \n",
    "\n",
    "www.nvidia.com/drivers\n",
    "\n",
    "*follow guideline\n",
    "example)\n",
    "wget https://developer.download.nvidia.com/compute/cuda/repos/ubuntu1804/x86_64/cuda-ubuntu1804.pin\n",
    "sudo mv cuda-ubuntu1804.pin /etc/apt/preferences.d/cuda-repository-pin-600\n",
    "sudo apt-key adv --fetch-keys https://developer.download.nvidia.com/compute/cuda/repos/ubuntu1804/x86_64/7fa2af80.pub\n",
    "sudo add-apt-repository \"deb http://developer.download.nvidia.com/compute/cuda/repos/ubuntu1804/x86_64/ /\"\n",
    "sudo apt-get update\n",
    "sudo apt-get -y install cuda\n",
    "\n",
    "*set up CUDNN, enter this site and download right the CUDA version(developer)\n",
    "\n",
    "https://developer.nvidia.com/rdp/cudnn-download#a-collapse765-102\n",
    "\n",
    "*move the CUDNN file directory and follow guideline\n",
    "example)\n",
    "sudo dpkg -i libcudnn7_7.7.6.32-1+cuda10.2_amd64.deb"
   ]
  },
  {
   "cell_type": "markdown",
   "metadata": {},
   "source": [
    "**download tensorflow**"
   ]
  },
  {
   "cell_type": "raw",
   "metadata": {},
   "source": [
    "*mapping check CUDA version and tensorflow version and activate environment\n",
    "\n",
    "pip install tensorflow-gpu=2.1 or pip install tensorflow-gpu\n",
    "\n",
    "*check GPU in jupyter-notebook\n",
    "from tensorflow.python.client import device_lib\n",
    "print(device_lib.list_local_devices())\n",
    "\n",
    "*check GPU in the list.\n",
    "example)\n",
    "\n",
    "[name: \"/device:CPU:0\"\n",
    "device_type: \"CPU\"\n",
    "memory_limit: \n",
    "locality {\n",
    "}\n",
    "incarnation: 2912972398453856885\n",
    ", name: \"/device:XLA_CPU:0\"\n",
    "device_type: \"XLA_CPU\"\n",
    "memory_limit: \n",
    "locality {\n",
    "}\n",
    "incarnation: 14670092729429917745\n",
    "physical_device_desc: \"device: XLA_CPU device\"\n",
    ", name: \"/device:XLA_GPU:0\"\n",
    "device_type: \"XLA_GPU\"\n",
    "memory_limit: \n",
    "locality {\n",
    "}\n",
    "incarnation: 14609946987916678359\n",
    "physical_device_desc: \"device: XLA_GPU device\"\n",
    ", name: \"/device:GPU:0\"\n",
    "device_type: \"GPU\"\n",
    "memory_limit: \n",
    "locality {\n",
    "  bus_id: 1\n",
    "  links {\n",
    "  }\n",
    "}\n",
    "incarnation: 10515658623768506172\n",
    "physical_device_desc: \"device: 0, name: , pci bus id: 0000:0d:00.0, compute capability: 7.5\"\n",
    "]\n"
   ]
  },
  {
   "cell_type": "markdown",
   "metadata": {},
   "source": [
    "**reference**"
   ]
  },
  {
   "cell_type": "markdown",
   "metadata": {},
   "source": [
    "\n",
    "https://teddylee777.github.io/linux/%EB%94%A5%EB%9F%AC%EB%8B%9D-PC%EC%97%90-ubuntu%EC%99%80-CUDA-GPU%EB%9D%BC%EC%9D%B4%EB%B8%8C%EB%9F%AC%EB%A6%AC-%EC%84%A4%EC%B9%98%ED%95%98%EA%B8%B0\n",
    "\n",
    "https://codechacha.com/ko/install-nvidia-driver-ubuntu/\n",
    "\n",
    "https://happist.com/561506/%EC%9A%B0%EB%B6%84%ED%88%AC-18-04-root-%EB%8C%80%EC%8B%A0%ED%95%A0-%EC%82%AC%EC%9A%A9%EC%9E%90-%EB%93%B1%EB%A1%9D-%EB%B0%8F-%EA%B6%8C%ED%95%9C-%EB%B6%80%EC%97%AC/\n",
    "\n",
    "https://light-tree.tistory.com/111\n",
    "\n",
    "http://programmingskills.net/archives/315\n",
    "\n",
    "http://blog.naver.com/PostView.nhn?blogId=myohyun&logNo=221491821891&categoryNo=0&parentCategoryNo=0&viewDate=&currentPage=1&postListTopCurrentPage=1&from=postView"
   ]
  },
  {
   "cell_type": "code",
   "execution_count": null,
   "metadata": {},
   "outputs": [],
   "source": []
  }
 ],
 "metadata": {
  "kernelspec": {
   "display_name": "Python 3",
   "language": "python",
   "name": "python3"
  },
  "language_info": {
   "codemirror_mode": {
    "name": "ipython",
    "version": 3
   },
   "file_extension": ".py",
   "mimetype": "text/x-python",
   "name": "python",
   "nbconvert_exporter": "python",
   "pygments_lexer": "ipython3",
   "version": "3.7.6"
  }
 },
 "nbformat": 4,
 "nbformat_minor": 4
}
