{
 "cells": [
  {
   "cell_type": "code",
   "execution_count": 1,
   "metadata": {},
   "outputs": [],
   "source": [
    "import pandas as pd\n",
    "import numpy as np"
   ]
  },
  {
   "cell_type": "code",
   "execution_count": 2,
   "metadata": {},
   "outputs": [],
   "source": [
    "Reactome_id = pd.read_excel('03_Reactome entrez genes ids.xlsx', header = None)\n",
    "Kegg_id = pd.read_excel('05_KEGG entrez genes ids.xlsx', header = None)\n",
    "Biocarta_id = pd.read_excel('07_BioCarta entrez genes ids.xlsx', header = None)"
   ]
  },
  {
   "cell_type": "code",
   "execution_count": 3,
   "metadata": {},
   "outputs": [],
   "source": [
    "over_lap = []\n",
    "for i in range(len(Reactome_id)):\n",
    "    Reactome = Reactome_id.iloc[i].dropna()[3:].values\n",
    "    Reactome = set(Reactome)\n",
    "    for j in range(len(Kegg_id)):\n",
    "        Kegg = Kegg_id.iloc[j].dropna()[3:].values\n",
    "        Kegg = set(Kegg)\n",
    "        \n",
    "        if Reactome == Kegg:\n",
    "            over_lap.append(j)"
   ]
  },
  {
   "cell_type": "code",
   "execution_count": 4,
   "metadata": {},
   "outputs": [
    {
     "data": {
      "text/plain": [
       "[]"
      ]
     },
     "execution_count": 4,
     "metadata": {},
     "output_type": "execute_result"
    }
   ],
   "source": [
    "over_lap"
   ]
  },
  {
   "cell_type": "code",
   "execution_count": 13,
   "metadata": {},
   "outputs": [],
   "source": [
    "Reac_Keg = pd.concat([Reactome_id,Kegg_id],axis = 0)\n",
    "Reac_Keg.reset_index(drop = True, inplace = True)"
   ]
  },
  {
   "cell_type": "code",
   "execution_count": 16,
   "metadata": {},
   "outputs": [
    {
     "data": {
      "text/plain": [
       "[]"
      ]
     },
     "execution_count": 16,
     "metadata": {},
     "output_type": "execute_result"
    }
   ],
   "source": [
    "over_lap = []\n",
    "for i in range(len(Reac_Keg)):\n",
    "    Reactome = Reac_Keg.iloc[i].dropna()[3:].values\n",
    "    Reactome = set(Reactome)\n",
    "    for j in range(len(Biocarta_id)):\n",
    "        Bio = Biocarta_id.iloc[j].dropna()[3:].values\n",
    "        Bio = set(Bio)\n",
    "        \n",
    "        if Reactome == Bio:\n",
    "            over_lap.append(j)\n",
    "            \n",
    "over_lap"
   ]
  },
  {
   "cell_type": "code",
   "execution_count": 18,
   "metadata": {},
   "outputs": [],
   "source": [
    "Reactome_Sym = pd.read_excel(\"02_Reactome gene symbols.xlsx\",header = None)\n",
    "Kegg_Sym = pd.read_excel(\"04_KEGG gene sets and symbols.xlsx\",header = None)\n",
    "Biocarta_Sym = pd.read_excel(\"06_BioCarta gene symbols.xlsx\",header = None)"
   ]
  },
  {
   "cell_type": "code",
   "execution_count": 19,
   "metadata": {},
   "outputs": [],
   "source": [
    "All_data_Sym = pd.concat([Reactome_Sym,Kegg_Sym,Biocarta_Sym],axis = 0)\n",
    "All_data_Sym.reset_index(drop = True, inplace = True)\n",
    "\n",
    "All_data = pd.concat([Reactome_id,Kegg_id,Biocarta_id],axis = 0)\n",
    "All_data.reset_index(drop = True, inplace = True)"
   ]
  },
  {
   "cell_type": "code",
   "execution_count": 21,
   "metadata": {},
   "outputs": [],
   "source": [
    "All_data_Sym.to_excel(\"09_AllDB gene symbols.xlsx\", index = None, header = None)\n",
    "All_data.to_excel(\"10_AllDB entrez genes ids.xlsx\", index = None, header = None)"
   ]
  },
  {
   "cell_type": "code",
   "execution_count": null,
   "metadata": {},
   "outputs": [],
   "source": []
  }
 ],
 "metadata": {
  "kernelspec": {
   "display_name": "Python 3",
   "language": "python",
   "name": "python3"
  },
  "language_info": {
   "codemirror_mode": {
    "name": "ipython",
    "version": 3
   },
   "file_extension": ".py",
   "mimetype": "text/x-python",
   "name": "python",
   "nbconvert_exporter": "python",
   "pygments_lexer": "ipython3",
   "version": "3.7.6"
  }
 },
 "nbformat": 4,
 "nbformat_minor": 4
}
