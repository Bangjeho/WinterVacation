{
 "cells": [
  {
   "cell_type": "code",
   "execution_count": 1,
   "metadata": {},
   "outputs": [],
   "source": [
    "import pandas as pd\n",
    "import numpy as np\n",
    "import editdistance as ed"
   ]
  },
  {
   "cell_type": "code",
   "execution_count": 2,
   "metadata": {},
   "outputs": [],
   "source": [
    "Reactome_id = pd.read_excel('03_Reactome entrez genes ids.xlsx', header = None)\n",
    "Kegg_id = pd.read_excel('05_KEGG entrez genes ids.xlsx', header = None)\n",
    "Biocarta_id = pd.read_excel('07_BioCarta entrez genes ids.xlsx', header = None)"
   ]
  },
  {
   "cell_type": "code",
   "execution_count": 3,
   "metadata": {},
   "outputs": [],
   "source": [
    "def rename_pathway(database,name):\n",
    "    for j in range(len(database)):\n",
    "        value = str(database.iloc[j][:1].values[0])\n",
    "        symbol = value.replace(name,\"\")\n",
    "        symbol = symbol.replace(\"_\",\"\")\n",
    "        database = database.replace({value:symbol})\n",
    "    return database"
   ]
  },
  {
   "cell_type": "code",
   "execution_count": 4,
   "metadata": {},
   "outputs": [],
   "source": [
    "databases = [Reactome_id,Kegg_id,Biocarta_id]\n",
    "names = [\"REACTOME\",\"KEGG\",\"BIOCARTA\"]\n",
    "\n",
    "Reactome_id = rename_pathway(databases[0],names[0])\n",
    "Kegg_id = rename_pathway(databases[1],names[1])\n",
    "Biocarta_id = rename_pathway(databases[2],names[2])"
   ]
  },
  {
   "cell_type": "code",
   "execution_count": 34,
   "metadata": {},
   "outputs": [],
   "source": [
    "same_symbol = []\n",
    "for i in range(len(Reactome_id)):\n",
    "    Reac_symbol = str(Reactome_id.iloc[i][:1].values[0])\n",
    "    for j in range(len(Kegg_id)):\n",
    "        Kegg_symbol = str(Kegg_id.iloc[j][:1].values[0])\n",
    "        \n",
    "        if Reac_symbol == Kegg_symbol:\n",
    "            same_symbol.append([i,j])"
   ]
  },
  {
   "cell_type": "code",
   "execution_count": 35,
   "metadata": {},
   "outputs": [
    {
     "data": {
      "text/plain": [
       "[[9, 80],\n",
       " [42, 92],\n",
       " [234, 81],\n",
       " [235, 110],\n",
       " [265, 46],\n",
       " [288, 50],\n",
       " [372, 75],\n",
       " [503, 39],\n",
       " [678, 43],\n",
       " [708, 27],\n",
       " [979, 82],\n",
       " [1218, 2],\n",
       " [1386, 23],\n",
       " [1390, 7],\n",
       " [1485, 135]]"
      ]
     },
     "execution_count": 35,
     "metadata": {},
     "output_type": "execute_result"
    }
   ],
   "source": [
    "same_symbol"
   ]
  },
  {
   "cell_type": "code",
   "execution_count": 9,
   "metadata": {
    "scrolled": true
   },
   "outputs": [
    {
     "name": "stdout",
     "output_type": "stream",
     "text": [
      "BASEEXCISIONREPAIR BASEEXCISIONREPAIR\n",
      "CELLCYCLE CELLCYCLE\n",
      "NUCLEOTIDEEXCISIONREPAIR NUCLEOTIDEEXCISIONREPAIR\n",
      "AXONGUIDANCE AXONGUIDANCE\n",
      "SPHINGOLIPIDMETABOLISM SPHINGOLIPIDMETABOLISM\n",
      "PYRUVATEMETABOLISM PYRUVATEMETABOLISM\n",
      "DNAREPLICATION DNAREPLICATION\n",
      "INOSITOLPHOSPHATEMETABOLISM INOSITOLPHOSPHATEMETABOLISM\n",
      "ARACHIDONICACIDMETABOLISM ARACHIDONICACIDMETABOLISM\n",
      "SELENOAMINOACIDMETABOLISM SELENOAMINOACIDMETABOLISM\n",
      "MISMATCHREPAIR MISMATCHREPAIR\n",
      "PENTOSEPHOSPHATEPATHWAY PENTOSEPHOSPHATEPATHWAY\n",
      "PHENYLALANINEMETABOLISM PHENYLALANINEMETABOLISM\n",
      "FATTYACIDMETABOLISM FATTYACIDMETABOLISM\n",
      "LONGTERMPOTENTIATION LONGTERMPOTENTIATION\n"
     ]
    }
   ],
   "source": [
    "for i in range(len(same_symbol)):\n",
    "    print(Reactome_id.iloc[same_symbol[i][0]][:1].values[0], Kegg_id.iloc[same_symbol[i][1]][:1].values[0])"
   ]
  },
  {
   "cell_type": "code",
   "execution_count": 5,
   "metadata": {},
   "outputs": [],
   "source": [
    "def edit_distance(database1,database2):\n",
    "    all_similarity = dict()\n",
    "    for i in range(len(database1)):\n",
    "        first_symbol = str(database1.iloc[i][:1].values[0])\n",
    "        first_sym_len = len(first_symbol)\n",
    "        for j in range(len(database2)):\n",
    "            second_symbol = str(database2.iloc[j][:1].values[0])\n",
    "            second_sym_len = len(second_symbol)\n",
    "            \n",
    "            similarity = ed.distance(first_symbol,second_symbol)\n",
    "            if first_sym_len > second_sym_len:\n",
    "                per_similarity = round((1-(similarity/first_sym_len))*100,0)\n",
    "                \n",
    "            else:\n",
    "                per_similarity = round((1-(similarity/second_sym_len))*100,0)\n",
    "                \n",
    "            if per_similarity in all_similarity:\n",
    "                all_similarity[per_similarity] = [all_similarity.get(per_similarity),[i,j]]\n",
    "            \n",
    "            else:\n",
    "                all_similarity[per_similarity] = [i,j]\n",
    "    return all_similarity"
   ]
  },
  {
   "cell_type": "code",
   "execution_count": 84,
   "metadata": {},
   "outputs": [],
   "source": [
    "bio_kegg_similar = edit_distance(Reactome_id,Biocarta_id)"
   ]
  },
  {
   "cell_type": "code",
   "execution_count": 85,
   "metadata": {
    "scrolled": true
   },
   "outputs": [
    {
     "data": {
      "text/plain": [
       "[0.0,\n",
       " 3.0,\n",
       " 4.0,\n",
       " 5.0,\n",
       " 6.0,\n",
       " 7.0,\n",
       " 8.0,\n",
       " 9.0,\n",
       " 10.0,\n",
       " 11.0,\n",
       " 12.0,\n",
       " 13.0,\n",
       " 14.0,\n",
       " 15.0,\n",
       " 16.0,\n",
       " 17.0,\n",
       " 18.0,\n",
       " 19.0,\n",
       " 20.0,\n",
       " 21.0,\n",
       " 22.0,\n",
       " 23.0,\n",
       " 24.0,\n",
       " 25.0,\n",
       " 26.0,\n",
       " 27.0,\n",
       " 28.0,\n",
       " 29.0,\n",
       " 30.0,\n",
       " 31.0,\n",
       " 32.0,\n",
       " 33.0,\n",
       " 34.0,\n",
       " 35.0,\n",
       " 36.0,\n",
       " 37.0,\n",
       " 38.0,\n",
       " 39.0,\n",
       " 40.0,\n",
       " 41.0,\n",
       " 42.0,\n",
       " 43.0,\n",
       " 44.0,\n",
       " 45.0,\n",
       " 46.0,\n",
       " 47.0,\n",
       " 48.0,\n",
       " 50.0,\n",
       " 52.0,\n",
       " 53.0,\n",
       " 54.0,\n",
       " 55.0,\n",
       " 56.0,\n",
       " 57.0,\n",
       " 58.0,\n",
       " 59.0,\n",
       " 60.0,\n",
       " 61.0,\n",
       " 62.0,\n",
       " 64.0,\n",
       " 65.0,\n",
       " 67.0,\n",
       " 71.0,\n",
       " 75.0,\n",
       " 83.0]"
      ]
     },
     "execution_count": 85,
     "metadata": {},
     "output_type": "execute_result"
    }
   ],
   "source": [
    "dic_keys = list(bio_kegg_similar.keys())\n",
    "dic_keys.sort()\n",
    "dic_keys"
   ]
  },
  {
   "cell_type": "code",
   "execution_count": 89,
   "metadata": {},
   "outputs": [
    {
     "name": "stdout",
     "output_type": "stream",
     "text": [
      "[[[[[[[[[[[[860, 19], [860, 44]], [860, 175]], [860, 179]], [860, 217]], [860, 235]], [860, 239]], [860, 243]], [860, 251]], [860, 266]], [860, 283]], [860, 286]]\n"
     ]
    }
   ],
   "source": [
    "print(bio_kegg_similar.get(75))"
   ]
  },
  {
   "cell_type": "code",
   "execution_count": 87,
   "metadata": {},
   "outputs": [],
   "source": [
    "similarity=[]\n",
    "inter_uni=[]"
   ]
  },
  {
   "cell_type": "code",
   "execution_count": 93,
   "metadata": {},
   "outputs": [],
   "source": [
    "x = Reactome_id.iloc[860].dropna()[3:].values\n",
    "x = set(x)\n",
    "\n",
    "y = Biocarta_id.iloc[179].dropna()[3:].values\n",
    "y = set(y)\n",
    "length_x = len(x)\n",
    "length_y = len(y)\n",
    "\n",
    "intersection = x & y\n",
    "union = x | y\n",
    "inter_uni.append([length_x,length_y,len(intersection),len(union)])\n",
    "similary_per = round((len(intersection) / len(union)) * 100,0)\n",
    "similarity.append(similary_per)"
   ]
  },
  {
   "cell_type": "code",
   "execution_count": 94,
   "metadata": {},
   "outputs": [
    {
     "name": "stdout",
     "output_type": "stream",
     "text": [
      "[0.0, 2.0, 0.0, 2.0, 0.0]\n",
      "\n",
      "[[91, 10, 0, 101], [91, 10, 2, 99], [91, 23, 0, 114], [91, 29, 2, 118], [91, 10, 0, 101]]\n"
     ]
    }
   ],
   "source": [
    "print(similarity)\n",
    "print()\n",
    "print(inter_uni)                               "
   ]
  },
  {
   "cell_type": "markdown",
   "metadata": {},
   "source": [
    "**combine Reactome and Kegg**"
   ]
  },
  {
   "cell_type": "code",
   "execution_count": 127,
   "metadata": {},
   "outputs": [],
   "source": [
    "for i in range(len(same_symbol)):\n",
    "    Reactome_id.drop(same_symbol[i][0], inplace= True)"
   ]
  },
  {
   "cell_type": "code",
   "execution_count": 128,
   "metadata": {},
   "outputs": [],
   "source": [
    "Reac_Keg = pd.concat([Reactome_id,Kegg_id],axis = 0)\n",
    "Reac_Keg.reset_index(drop = True, inplace = True)"
   ]
  },
  {
   "cell_type": "code",
   "execution_count": 129,
   "metadata": {},
   "outputs": [],
   "source": [
    "rekg_bio = edit_distance(Reac_Keg,Biocarta_id)\n",
    "\n",
    "rekg_keys = list(rekg_bio.keys())\n",
    "rekg_keys.sort()"
   ]
  },
  {
   "cell_type": "code",
   "execution_count": 120,
   "metadata": {
    "scrolled": true
   },
   "outputs": [
    {
     "data": {
      "text/plain": [
       "[0.0,\n",
       " 3.0,\n",
       " 4.0,\n",
       " 5.0,\n",
       " 6.0,\n",
       " 7.0,\n",
       " 8.0,\n",
       " 9.0,\n",
       " 10.0,\n",
       " 11.0,\n",
       " 12.0,\n",
       " 13.0,\n",
       " 14.0,\n",
       " 15.0,\n",
       " 16.0,\n",
       " 17.0,\n",
       " 18.0,\n",
       " 19.0,\n",
       " 20.0,\n",
       " 21.0,\n",
       " 22.0,\n",
       " 23.0,\n",
       " 24.0,\n",
       " 25.0,\n",
       " 26.0,\n",
       " 27.0,\n",
       " 28.0,\n",
       " 29.0,\n",
       " 30.0,\n",
       " 31.0,\n",
       " 32.0,\n",
       " 33.0,\n",
       " 34.0,\n",
       " 35.0,\n",
       " 36.0,\n",
       " 37.0,\n",
       " 38.0,\n",
       " 39.0,\n",
       " 40.0,\n",
       " 41.0,\n",
       " 42.0,\n",
       " 43.0,\n",
       " 44.0,\n",
       " 45.0,\n",
       " 46.0,\n",
       " 47.0,\n",
       " 48.0,\n",
       " 49.0,\n",
       " 50.0,\n",
       " 52.0,\n",
       " 54.0,\n",
       " 57.0]"
      ]
     },
     "execution_count": 120,
     "metadata": {},
     "output_type": "execute_result"
    }
   ],
   "source": [
    "\n",
    "rekg_keys"
   ]
  },
  {
   "cell_type": "code",
   "execution_count": 85,
   "metadata": {},
   "outputs": [
    {
     "name": "stdout",
     "output_type": "stream",
     "text": [
      "[[[[[[[[[[[[850, 19], [850, 44]], [850, 175]], [850, 179]], [850, 217]], [850, 235]], [850, 239]], [850, 243]], [850, 251]], [850, 266]], [850, 283]], [850, 286]]\n",
      "PCPCEPATHWAY PEPIPATHWAY\n"
     ]
    }
   ],
   "source": [
    "print(rekg_bio.get(75))\n",
    "\n",
    "print(str(Reac_Keg.iloc[850][:1].values[0]),\n",
    "str(Biocarta_id.iloc[286][:1].values[0]))"
   ]
  },
  {
   "cell_type": "markdown",
   "metadata": {},
   "source": [
    "------------------"
   ]
  },
  {
   "cell_type": "code",
   "execution_count": 70,
   "metadata": {},
   "outputs": [],
   "source": [
    "same_symbol2 = []\n",
    "for i in range(len(Reac_Keg)):\n",
    "    Reac_Kegg_symbol = str(Reac_Keg.iloc[i][:1].values[0])\n",
    "    for j in range(len(Biocarta_id)):\n",
    "        Bio_symbol = str(Biocarta_id.iloc[j][:1].values[0])\n",
    "        \n",
    "        if Reac_Kegg_symbol == Bio_symbol:\n",
    "            same_symbol2.append([i,j])"
   ]
  },
  {
   "cell_type": "code",
   "execution_count": 71,
   "metadata": {},
   "outputs": [
    {
     "data": {
      "text/plain": [
       "[]"
      ]
     },
     "execution_count": 71,
     "metadata": {},
     "output_type": "execute_result"
    }
   ],
   "source": [
    "same_symbol2"
   ]
  },
  {
   "cell_type": "code",
   "execution_count": 136,
   "metadata": {
    "scrolled": true
   },
   "outputs": [
    {
     "name": "stdout",
     "output_type": "stream",
     "text": [
      "[0.0, 3.0, 4.0, 5.0, 6.0, 7.0, 8.0, 9.0, 10.0, 11.0, 12.0, 13.0, 14.0, 15.0, 16.0, 17.0, 18.0, 19.0, 20.0, 21.0, 22.0, 23.0, 24.0, 25.0, 26.0, 27.0, 28.0, 29.0, 30.0, 31.0, 32.0, 33.0, 34.0, 35.0, 36.0, 37.0, 38.0, 39.0, 40.0, 41.0, 42.0, 43.0, 44.0, 45.0, 46.0, 47.0, 48.0, 50.0, 52.0, 53.0, 54.0, 55.0, 56.0, 57.0, 58.0, 59.0, 60.0, 61.0, 62.0, 63.0, 64.0, 65.0, 67.0, 71.0, 75.0, 83.0]\n",
      "[[[[[[[[[[[[850, 19], [850, 44]], [850, 175]], [850, 179]], [850, 217]], [850, 235]], [850, 239]], [850, 243]], [850, 251]], [850, 266]], [850, 283]], [850, 286]]\n"
     ]
    }
   ],
   "source": [
    "\n",
    "print(rekg_keys)\n",
    "print(rekg_bio.get(75))"
   ]
  },
  {
   "cell_type": "code",
   "execution_count": 134,
   "metadata": {},
   "outputs": [],
   "source": [
    "similarity = []\n",
    "inter_uni = []"
   ]
  },
  {
   "cell_type": "code",
   "execution_count": 91,
   "metadata": {},
   "outputs": [],
   "source": [
    "similarity = []\n",
    "inter_uni = []\n",
    "for i in range(len(same_symbol)):\n",
    "    x = Reactome_id.iloc[same_symbol[i][0]].dropna()[3:].values\n",
    "    x = set(x)\n",
    "\n",
    "    y = Kegg_id.iloc[same_symbol[i][1]].dropna()[3:].values\n",
    "    y = set(y)\n",
    "\n",
    "    intersection = x & y\n",
    "    union = x | y\n",
    "    inter_uni.append([len(intersection),len(union)])\n",
    "    similary_per = round((len(intersection) / len(union)) * 100,0)\n",
    "    similarity.append(similary_per)"
   ]
  },
  {
   "cell_type": "code",
   "execution_count": 92,
   "metadata": {},
   "outputs": [
    {
     "data": {
      "text/plain": [
       "[27.0,\n",
       " 15.0,\n",
       " 38.0,\n",
       " 16.0,\n",
       " 42.0,\n",
       " 23.0,\n",
       " 23.0,\n",
       " 43.0,\n",
       " 39.0,\n",
       " 7.0,\n",
       " 64.0,\n",
       " 43.0,\n",
       " 5.0,\n",
       " 13.0,\n",
       " 15.0]"
      ]
     },
     "execution_count": 92,
     "metadata": {},
     "output_type": "execute_result"
    }
   ],
   "source": [
    "similarity"
   ]
  },
  {
   "cell_type": "code",
   "execution_count": 93,
   "metadata": {},
   "outputs": [
    {
     "data": {
      "text/plain": [
       "[[26, 98],\n",
       " [102, 662],\n",
       " [42, 110],\n",
       " [93, 588],\n",
       " [37, 89],\n",
       " [13, 56],\n",
       " [30, 131],\n",
       " [30, 70],\n",
       " [32, 83],\n",
       " [9, 133],\n",
       " [14, 22],\n",
       " [12, 28],\n",
       " [1, 21],\n",
       " [25, 192],\n",
       " [12, 79]]"
      ]
     },
     "execution_count": 93,
     "metadata": {},
     "output_type": "execute_result"
    }
   ],
   "source": [
    "inter_uni"
   ]
  },
  {
   "cell_type": "code",
   "execution_count": null,
   "metadata": {},
   "outputs": [],
   "source": []
  }
 ],
 "metadata": {
  "kernelspec": {
   "display_name": "Python 3",
   "language": "python",
   "name": "python3"
  },
  "language_info": {
   "codemirror_mode": {
    "name": "ipython",
    "version": 3
   },
   "file_extension": ".py",
   "mimetype": "text/x-python",
   "name": "python",
   "nbconvert_exporter": "python",
   "pygments_lexer": "ipython3",
   "version": "3.7.6"
  }
 },
 "nbformat": 4,
 "nbformat_minor": 4
}
