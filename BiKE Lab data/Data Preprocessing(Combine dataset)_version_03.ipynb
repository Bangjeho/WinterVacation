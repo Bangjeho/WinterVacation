{
 "cells": [
  {
   "cell_type": "code",
   "execution_count": 39,
   "metadata": {},
   "outputs": [],
   "source": [
    "import pandas as pd\n",
    "import numpy as np"
   ]
  },
  {
   "cell_type": "code",
   "execution_count": 40,
   "metadata": {},
   "outputs": [],
   "source": [
    "Reactome_id = pd.read_excel('03_Reactome entrez genes ids.xlsx', header = None)\n",
    "Kegg_id = pd.read_excel('05_KEGG entrez genes ids.xlsx', header = None)\n",
    "Biocarta_id = pd.read_excel('07_BioCarta entrez genes ids.xlsx', header = None)"
   ]
  },
  {
   "cell_type": "code",
   "execution_count": 43,
   "metadata": {},
   "outputs": [],
   "source": [
    "all_info = dict()\n",
    "for i in range(len(Reactome_id)):\n",
    "    x = Reactome_id.iloc[i].dropna()[3:].values\n",
    "    x = set(x)\n",
    "    for j in range(len(Kegg_id)):\n",
    "        y = Kegg_id.iloc[j].dropna()[3:].values\n",
    "        y = set(y)\n",
    "    \n",
    "        intersection = x & y\n",
    "        union = x | y\n",
    "        similary_per = round((len(intersection) / len(union)) * 100,0)\n",
    "        \n",
    "        if similary_per in all_info:\n",
    "            all_info[similary_per] = [all_info.get(similary_per),[i,j]]\n",
    "        else:\n",
    "            all_info[similary_per] = [i,j]"
   ]
  },
  {
   "cell_type": "code",
   "execution_count": 48,
   "metadata": {},
   "outputs": [],
   "source": [
    "percent = list(all_info.keys())\n",
    "percent.sort()"
   ]
  },
  {
   "cell_type": "code",
   "execution_count": 61,
   "metadata": {},
   "outputs": [
    {
     "data": {
      "text/plain": [
       "[1493, 71]"
      ]
     },
     "execution_count": 61,
     "metadata": {},
     "output_type": "execute_result"
    }
   ],
   "source": [
    "percent\n",
    "all_info.get(86)"
   ]
  },
  {
   "cell_type": "code",
   "execution_count": 65,
   "metadata": {},
   "outputs": [
    {
     "data": {
      "text/plain": [
       "array([1981.0, 2107.0, 2197.0, 2935.0, 3921.0, 4686.0, 4736.0, 6122.0,\n",
       "       6123.0, 6124.0, 6125.0, 6128.0, 6129.0, 6130.0, 6132.0, 6133.0,\n",
       "       6134.0, 6135.0, 6136.0, 6137.0, 6138.0, 6139.0, 6141, 6142.0,\n",
       "       6143.0, 6144.0, 6146.0, 6147.0, 6152.0, 6154.0, 6155.0, 6156.0,\n",
       "       6157.0, 6158.0, 6159.0, 6160.0, 6161.0, 6164.0, 6165.0, 6166.0,\n",
       "       6167.0, 6168.0, 6169.0, 6170.0, 6171.0, 6173.0, 6175.0, 6176.0,\n",
       "       6181.0, 6187.0, 6188.0, 6189.0, 6191.0, 6192.0, 6193.0, 6194.0,\n",
       "       6201.0, 6202.0, 6203.0, 6204.0, 6205.0, 6206.0, 6207.0, 6208.0,\n",
       "       6209.0, 6210.0, 6217.0, 6218.0, 6222.0, 6223.0, 6224, 6227.0,\n",
       "       6228.0, 6229.0, 6230.0, 6231.0, 6232.0, 6233.0, 6234.0, 6235.0,\n",
       "       7311.0, 9045.0, 9349.0, 11224.0, 22916.0, 23521.0, 23708.0,\n",
       "       25873.0, 26986, 51065.0, 51121, 116832.0, 140032.0, 140801.0,\n",
       "       200916.0], dtype=object)"
      ]
     },
     "execution_count": 65,
     "metadata": {},
     "output_type": "execute_result"
    }
   ],
   "source": [
    "reac = Reactome_id.iloc[1493].dropna()[3:].values\n",
    "reac.sort()\n",
    "reac"
   ]
  },
  {
   "cell_type": "code",
   "execution_count": 66,
   "metadata": {
    "scrolled": true
   },
   "outputs": [
    {
     "data": {
      "text/plain": [
       "array([2197.0, 3921.0, 4736.0, 6122, 6123, 6124, 6125, 6128.0, 6129.0,\n",
       "       6130.0, 6132.0, 6133.0, 6134.0, 6135.0, 6136.0, 6137.0, 6138.0,\n",
       "       6139.0, 6141.0, 6142.0, 6143.0, 6144.0, 6146.0, 6147.0, 6152.0,\n",
       "       6154.0, 6155.0, 6156.0, 6157.0, 6158.0, 6159.0, 6160, 6161, 6164,\n",
       "       6165.0, 6166.0, 6167.0, 6168.0, 6169.0, 6170.0, 6171.0, 6173.0,\n",
       "       6175.0, 6176.0, 6181.0, 6187.0, 6188.0, 6189.0, 6191.0, 6192.0,\n",
       "       6193.0, 6194.0, 6201.0, 6202.0, 6203.0, 6204, 6205.0, 6206.0,\n",
       "       6207.0, 6209.0, 6210.0, 6217.0, 6218.0, 6222.0, 6223.0, 6224.0,\n",
       "       6227.0, 6228.0, 6229.0, 6230.0, 6231.0, 6232.0, 6233.0, 6234.0,\n",
       "       6235.0, 7311.0, 9045.0, 9349, 23521.0, 25873.0, 28998.0, 51065.0,\n",
       "       51121.0, 51187.0, 140801.0, 200916.0, 284288.0], dtype=object)"
      ]
     },
     "execution_count": 66,
     "metadata": {},
     "output_type": "execute_result"
    }
   ],
   "source": [
    "keg = Kegg_id.iloc[71].dropna()[3:].values\n",
    "keg.sort()\n",
    "keg"
   ]
  },
  {
   "cell_type": "code",
   "execution_count": 62,
   "metadata": {},
   "outputs": [],
   "source": [
    "Reac_Keg = pd.concat([Reactome_id,Kegg_id],axis = 0)\n",
    "Reac_Keg.reset_index(drop = True, inplace = True)"
   ]
  },
  {
   "cell_type": "code",
   "execution_count": null,
   "metadata": {},
   "outputs": [],
   "source": [
    "all_info2 = dict()\n",
    "for i in range(len(Reac_Keg)):\n",
    "    x = Reac_Keg.iloc[i].dropna()[3:].values\n",
    "    x = set(x)\n",
    "    for j in range(len(Biocarta_id)):\n",
    "        y = Biocarta_id.iloc[j].dropna()[3:].values\n",
    "        y = set(y)\n",
    "    \n",
    "        intersection = x & y\n",
    "        union = x | y\n",
    "        similary_per = round((len(intersection) / len(union)) * 100,0)\n",
    "        \n",
    "        if similary_per in all_info:\n",
    "            all_info2[similary_per] = [all_info2.get(similary_per),[i,j]]\n",
    "        else:\n",
    "            all_info2[similary_per] = [i,j]"
   ]
  }
 ],
 "metadata": {
  "kernelspec": {
   "display_name": "Python 3",
   "language": "python",
   "name": "python3"
  },
  "language_info": {
   "codemirror_mode": {
    "name": "ipython",
    "version": 3
   },
   "file_extension": ".py",
   "mimetype": "text/x-python",
   "name": "python",
   "nbconvert_exporter": "python",
   "pygments_lexer": "ipython3",
   "version": "3.7.6"
  }
 },
 "nbformat": 4,
 "nbformat_minor": 4
}
