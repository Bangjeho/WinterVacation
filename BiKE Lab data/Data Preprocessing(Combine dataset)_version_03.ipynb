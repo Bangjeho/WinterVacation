{
 "cells": [
  {
   "cell_type": "code",
   "execution_count": 14,
   "metadata": {},
   "outputs": [],
   "source": [
    "import pandas as pd\n",
    "import numpy as np"
   ]
  },
  {
   "cell_type": "code",
   "execution_count": 15,
   "metadata": {},
   "outputs": [],
   "source": [
    "Reactome_id = pd.read_excel('03_Reactome entrez genes ids.xlsx', header = None)\n",
    "Kegg_id = pd.read_excel('05_KEGG entrez genes ids.xlsx', header = None)\n",
    "Biocarta_id = pd.read_excel('07_BioCarta entrez genes ids.xlsx', header = None)"
   ]
  },
  {
   "cell_type": "code",
   "execution_count": 25,
   "metadata": {},
   "outputs": [
    {
     "data": {
      "text/html": [
       "<div>\n",
       "<style scoped>\n",
       "    .dataframe tbody tr th:only-of-type {\n",
       "        vertical-align: middle;\n",
       "    }\n",
       "\n",
       "    .dataframe tbody tr th {\n",
       "        vertical-align: top;\n",
       "    }\n",
       "\n",
       "    .dataframe thead th {\n",
       "        text-align: right;\n",
       "    }\n",
       "</style>\n",
       "<table border=\"1\" class=\"dataframe\">\n",
       "  <thead>\n",
       "    <tr style=\"text-align: right;\">\n",
       "      <th></th>\n",
       "      <th>0</th>\n",
       "      <th>1</th>\n",
       "      <th>2</th>\n",
       "      <th>3</th>\n",
       "      <th>4</th>\n",
       "      <th>5</th>\n",
       "      <th>6</th>\n",
       "      <th>7</th>\n",
       "      <th>8</th>\n",
       "      <th>9</th>\n",
       "      <th>...</th>\n",
       "      <th>73</th>\n",
       "      <th>74</th>\n",
       "      <th>75</th>\n",
       "      <th>76</th>\n",
       "      <th>77</th>\n",
       "      <th>78</th>\n",
       "      <th>79</th>\n",
       "      <th>80</th>\n",
       "      <th>81</th>\n",
       "      <th>82</th>\n",
       "    </tr>\n",
       "  </thead>\n",
       "  <tbody>\n",
       "    <tr>\n",
       "      <th>0</th>\n",
       "      <td>BIOCARTA_RELA_PATHWAY</td>\n",
       "      <td>http://www.gsea-msigdb.org/gsea/msigdb/cards/B...</td>\n",
       "      <td>8517</td>\n",
       "      <td>4792</td>\n",
       "      <td>8772</td>\n",
       "      <td>1147</td>\n",
       "      <td>7124</td>\n",
       "      <td>7133.0</td>\n",
       "      <td>7132.0</td>\n",
       "      <td>7189.0</td>\n",
       "      <td>...</td>\n",
       "      <td>NaN</td>\n",
       "      <td>NaN</td>\n",
       "      <td>NaN</td>\n",
       "      <td>NaN</td>\n",
       "      <td>NaN</td>\n",
       "      <td>NaN</td>\n",
       "      <td>NaN</td>\n",
       "      <td>NaN</td>\n",
       "      <td>NaN</td>\n",
       "      <td>NaN</td>\n",
       "    </tr>\n",
       "    <tr>\n",
       "      <th>1</th>\n",
       "      <td>BIOCARTA_NO1_PATHWAY</td>\n",
       "      <td>http://www.gsea-msigdb.org/gsea/msigdb/cards/B...</td>\n",
       "      <td>58</td>\n",
       "      <td>6541</td>\n",
       "      <td>7422</td>\n",
       "      <td>857</td>\n",
       "      <td>3827</td>\n",
       "      <td>6262.0</td>\n",
       "      <td>5568.0</td>\n",
       "      <td>5573.0</td>\n",
       "      <td>...</td>\n",
       "      <td>NaN</td>\n",
       "      <td>NaN</td>\n",
       "      <td>NaN</td>\n",
       "      <td>NaN</td>\n",
       "      <td>NaN</td>\n",
       "      <td>NaN</td>\n",
       "      <td>NaN</td>\n",
       "      <td>NaN</td>\n",
       "      <td>NaN</td>\n",
       "      <td>NaN</td>\n",
       "    </tr>\n",
       "    <tr>\n",
       "      <th>2</th>\n",
       "      <td>BIOCARTA_CSK_PATHWAY</td>\n",
       "      <td>http://www.gsea-msigdb.org/gsea/msigdb/cards/B...</td>\n",
       "      <td>917</td>\n",
       "      <td>916</td>\n",
       "      <td>1445</td>\n",
       "      <td>919</td>\n",
       "      <td>5568</td>\n",
       "      <td>107.0</td>\n",
       "      <td>7535.0</td>\n",
       "      <td>5573.0</td>\n",
       "      <td>...</td>\n",
       "      <td>NaN</td>\n",
       "      <td>NaN</td>\n",
       "      <td>NaN</td>\n",
       "      <td>NaN</td>\n",
       "      <td>NaN</td>\n",
       "      <td>NaN</td>\n",
       "      <td>NaN</td>\n",
       "      <td>NaN</td>\n",
       "      <td>NaN</td>\n",
       "      <td>NaN</td>\n",
       "    </tr>\n",
       "    <tr>\n",
       "      <th>3</th>\n",
       "      <td>BIOCARTA_SRCRPTP_PATHWAY</td>\n",
       "      <td>http://www.gsea-msigdb.org/gsea/msigdb/cards/B...</td>\n",
       "      <td>995</td>\n",
       "      <td>891</td>\n",
       "      <td>1445</td>\n",
       "      <td>994</td>\n",
       "      <td>5786</td>\n",
       "      <td>64601.0</td>\n",
       "      <td>993.0</td>\n",
       "      <td>2885.0</td>\n",
       "      <td>...</td>\n",
       "      <td>NaN</td>\n",
       "      <td>NaN</td>\n",
       "      <td>NaN</td>\n",
       "      <td>NaN</td>\n",
       "      <td>NaN</td>\n",
       "      <td>NaN</td>\n",
       "      <td>NaN</td>\n",
       "      <td>NaN</td>\n",
       "      <td>NaN</td>\n",
       "      <td>NaN</td>\n",
       "    </tr>\n",
       "    <tr>\n",
       "      <th>4</th>\n",
       "      <td>BIOCARTA_AMI_PATHWAY</td>\n",
       "      <td>http://www.gsea-msigdb.org/gsea/msigdb/cards/B...</td>\n",
       "      <td>1282</td>\n",
       "      <td>2155</td>\n",
       "      <td>5627</td>\n",
       "      <td>462</td>\n",
       "      <td>5340</td>\n",
       "      <td>1288.0</td>\n",
       "      <td>5624.0</td>\n",
       "      <td>51327.0</td>\n",
       "      <td>...</td>\n",
       "      <td>NaN</td>\n",
       "      <td>NaN</td>\n",
       "      <td>NaN</td>\n",
       "      <td>NaN</td>\n",
       "      <td>NaN</td>\n",
       "      <td>NaN</td>\n",
       "      <td>NaN</td>\n",
       "      <td>NaN</td>\n",
       "      <td>NaN</td>\n",
       "      <td>NaN</td>\n",
       "    </tr>\n",
       "    <tr>\n",
       "      <th>...</th>\n",
       "      <td>...</td>\n",
       "      <td>...</td>\n",
       "      <td>...</td>\n",
       "      <td>...</td>\n",
       "      <td>...</td>\n",
       "      <td>...</td>\n",
       "      <td>...</td>\n",
       "      <td>...</td>\n",
       "      <td>...</td>\n",
       "      <td>...</td>\n",
       "      <td>...</td>\n",
       "      <td>...</td>\n",
       "      <td>...</td>\n",
       "      <td>...</td>\n",
       "      <td>...</td>\n",
       "      <td>...</td>\n",
       "      <td>...</td>\n",
       "      <td>...</td>\n",
       "      <td>...</td>\n",
       "      <td>...</td>\n",
       "      <td>...</td>\n",
       "    </tr>\n",
       "    <tr>\n",
       "      <th>284</th>\n",
       "      <td>BIOCARTA_RAN_PATHWAY</td>\n",
       "      <td>http://www.gsea-msigdb.org/gsea/msigdb/cards/B...</td>\n",
       "      <td>5901</td>\n",
       "      <td>5902</td>\n",
       "      <td>5905</td>\n",
       "      <td>5903</td>\n",
       "      <td>1104</td>\n",
       "      <td>NaN</td>\n",
       "      <td>NaN</td>\n",
       "      <td>NaN</td>\n",
       "      <td>...</td>\n",
       "      <td>NaN</td>\n",
       "      <td>NaN</td>\n",
       "      <td>NaN</td>\n",
       "      <td>NaN</td>\n",
       "      <td>NaN</td>\n",
       "      <td>NaN</td>\n",
       "      <td>NaN</td>\n",
       "      <td>NaN</td>\n",
       "      <td>NaN</td>\n",
       "      <td>NaN</td>\n",
       "    </tr>\n",
       "    <tr>\n",
       "      <th>285</th>\n",
       "      <td>BIOCARTA_WNT_LRP6_PATHWAY</td>\n",
       "      <td>http://www.gsea-msigdb.org/gsea/msigdb/cards/B...</td>\n",
       "      <td>22943</td>\n",
       "      <td>8321</td>\n",
       "      <td>27123</td>\n",
       "      <td>7479</td>\n",
       "      <td>7478</td>\n",
       "      <td>79412.0</td>\n",
       "      <td>NaN</td>\n",
       "      <td>NaN</td>\n",
       "      <td>...</td>\n",
       "      <td>NaN</td>\n",
       "      <td>NaN</td>\n",
       "      <td>NaN</td>\n",
       "      <td>NaN</td>\n",
       "      <td>NaN</td>\n",
       "      <td>NaN</td>\n",
       "      <td>NaN</td>\n",
       "      <td>NaN</td>\n",
       "      <td>NaN</td>\n",
       "      <td>NaN</td>\n",
       "    </tr>\n",
       "    <tr>\n",
       "      <th>286</th>\n",
       "      <td>BIOCARTA_PEPI_PATHWAY</td>\n",
       "      <td>http://www.gsea-msigdb.org/gsea/msigdb/cards/B...</td>\n",
       "      <td>3576</td>\n",
       "      <td>1991</td>\n",
       "      <td>1990</td>\n",
       "      <td>2896</td>\n",
       "      <td>6590</td>\n",
       "      <td>63036.0</td>\n",
       "      <td>51032.0</td>\n",
       "      <td>23436.0</td>\n",
       "      <td>...</td>\n",
       "      <td>NaN</td>\n",
       "      <td>NaN</td>\n",
       "      <td>NaN</td>\n",
       "      <td>NaN</td>\n",
       "      <td>NaN</td>\n",
       "      <td>NaN</td>\n",
       "      <td>NaN</td>\n",
       "      <td>NaN</td>\n",
       "      <td>NaN</td>\n",
       "      <td>NaN</td>\n",
       "    </tr>\n",
       "    <tr>\n",
       "      <th>287</th>\n",
       "      <td>BIOCARTA_IFNG_PATHWAY</td>\n",
       "      <td>http://www.gsea-msigdb.org/gsea/msigdb/cards/B...</td>\n",
       "      <td>3458</td>\n",
       "      <td>3716</td>\n",
       "      <td>3459</td>\n",
       "      <td>3460</td>\n",
       "      <td>3717</td>\n",
       "      <td>6772.0</td>\n",
       "      <td>NaN</td>\n",
       "      <td>NaN</td>\n",
       "      <td>...</td>\n",
       "      <td>NaN</td>\n",
       "      <td>NaN</td>\n",
       "      <td>NaN</td>\n",
       "      <td>NaN</td>\n",
       "      <td>NaN</td>\n",
       "      <td>NaN</td>\n",
       "      <td>NaN</td>\n",
       "      <td>NaN</td>\n",
       "      <td>NaN</td>\n",
       "      <td>NaN</td>\n",
       "    </tr>\n",
       "    <tr>\n",
       "      <th>288</th>\n",
       "      <td>BIOCARTA_BOTULIN_PATHWAY</td>\n",
       "      <td>http://www.gsea-msigdb.org/gsea/msigdb/cards/B...</td>\n",
       "      <td>6844</td>\n",
       "      <td>6616</td>\n",
       "      <td>1134</td>\n",
       "      <td>1128</td>\n",
       "      <td>6804</td>\n",
       "      <td>NaN</td>\n",
       "      <td>NaN</td>\n",
       "      <td>NaN</td>\n",
       "      <td>...</td>\n",
       "      <td>NaN</td>\n",
       "      <td>NaN</td>\n",
       "      <td>NaN</td>\n",
       "      <td>NaN</td>\n",
       "      <td>NaN</td>\n",
       "      <td>NaN</td>\n",
       "      <td>NaN</td>\n",
       "      <td>NaN</td>\n",
       "      <td>NaN</td>\n",
       "      <td>NaN</td>\n",
       "    </tr>\n",
       "  </tbody>\n",
       "</table>\n",
       "<p>289 rows × 83 columns</p>\n",
       "</div>"
      ],
      "text/plain": [
       "                            0   \\\n",
       "0        BIOCARTA_RELA_PATHWAY   \n",
       "1         BIOCARTA_NO1_PATHWAY   \n",
       "2         BIOCARTA_CSK_PATHWAY   \n",
       "3     BIOCARTA_SRCRPTP_PATHWAY   \n",
       "4         BIOCARTA_AMI_PATHWAY   \n",
       "..                         ...   \n",
       "284       BIOCARTA_RAN_PATHWAY   \n",
       "285  BIOCARTA_WNT_LRP6_PATHWAY   \n",
       "286      BIOCARTA_PEPI_PATHWAY   \n",
       "287      BIOCARTA_IFNG_PATHWAY   \n",
       "288   BIOCARTA_BOTULIN_PATHWAY   \n",
       "\n",
       "                                                    1      2     3      4   \\\n",
       "0    http://www.gsea-msigdb.org/gsea/msigdb/cards/B...   8517  4792   8772   \n",
       "1    http://www.gsea-msigdb.org/gsea/msigdb/cards/B...     58  6541   7422   \n",
       "2    http://www.gsea-msigdb.org/gsea/msigdb/cards/B...    917   916   1445   \n",
       "3    http://www.gsea-msigdb.org/gsea/msigdb/cards/B...    995   891   1445   \n",
       "4    http://www.gsea-msigdb.org/gsea/msigdb/cards/B...   1282  2155   5627   \n",
       "..                                                 ...    ...   ...    ...   \n",
       "284  http://www.gsea-msigdb.org/gsea/msigdb/cards/B...   5901  5902   5905   \n",
       "285  http://www.gsea-msigdb.org/gsea/msigdb/cards/B...  22943  8321  27123   \n",
       "286  http://www.gsea-msigdb.org/gsea/msigdb/cards/B...   3576  1991   1990   \n",
       "287  http://www.gsea-msigdb.org/gsea/msigdb/cards/B...   3458  3716   3459   \n",
       "288  http://www.gsea-msigdb.org/gsea/msigdb/cards/B...   6844  6616   1134   \n",
       "\n",
       "       5     6        7        8        9   ...  73  74  75  76  77  78  79  \\\n",
       "0    1147  7124   7133.0   7132.0   7189.0  ... NaN NaN NaN NaN NaN NaN NaN   \n",
       "1     857  3827   6262.0   5568.0   5573.0  ... NaN NaN NaN NaN NaN NaN NaN   \n",
       "2     919  5568    107.0   7535.0   5573.0  ... NaN NaN NaN NaN NaN NaN NaN   \n",
       "3     994  5786  64601.0    993.0   2885.0  ... NaN NaN NaN NaN NaN NaN NaN   \n",
       "4     462  5340   1288.0   5624.0  51327.0  ... NaN NaN NaN NaN NaN NaN NaN   \n",
       "..    ...   ...      ...      ...      ...  ...  ..  ..  ..  ..  ..  ..  ..   \n",
       "284  5903  1104      NaN      NaN      NaN  ... NaN NaN NaN NaN NaN NaN NaN   \n",
       "285  7479  7478  79412.0      NaN      NaN  ... NaN NaN NaN NaN NaN NaN NaN   \n",
       "286  2896  6590  63036.0  51032.0  23436.0  ... NaN NaN NaN NaN NaN NaN NaN   \n",
       "287  3460  3717   6772.0      NaN      NaN  ... NaN NaN NaN NaN NaN NaN NaN   \n",
       "288  1128  6804      NaN      NaN      NaN  ... NaN NaN NaN NaN NaN NaN NaN   \n",
       "\n",
       "     80  81  82  \n",
       "0   NaN NaN NaN  \n",
       "1   NaN NaN NaN  \n",
       "2   NaN NaN NaN  \n",
       "3   NaN NaN NaN  \n",
       "4   NaN NaN NaN  \n",
       "..   ..  ..  ..  \n",
       "284 NaN NaN NaN  \n",
       "285 NaN NaN NaN  \n",
       "286 NaN NaN NaN  \n",
       "287 NaN NaN NaN  \n",
       "288 NaN NaN NaN  \n",
       "\n",
       "[289 rows x 83 columns]"
      ]
     },
     "execution_count": 25,
     "metadata": {},
     "output_type": "execute_result"
    }
   ],
   "source": [
    "Biocarta_id"
   ]
  },
  {
   "cell_type": "code",
   "execution_count": 26,
   "metadata": {},
   "outputs": [],
   "source": [
    "count_columns = set()\n",
    "\n",
    "for i in range(len(Biocarta_id)):\n",
    "    count_columns.update(Biocarta_id.iloc[i].dropna()[3:].values)"
   ]
  },
  {
   "cell_type": "code",
   "execution_count": 27,
   "metadata": {},
   "outputs": [
    {
     "data": {
      "text/plain": [
       "1403"
      ]
     },
     "execution_count": 27,
     "metadata": {},
     "output_type": "execute_result"
    }
   ],
   "source": [
    "len(count_columns)"
   ]
  },
  {
   "cell_type": "code",
   "execution_count": 4,
   "metadata": {},
   "outputs": [],
   "source": [
    "all_info = dict()\n",
    "for i in range(len(Reactome_id)):\n",
    "    x = Reactome_id.iloc[i].dropna()[3:].values\n",
    "    x = set(x)\n",
    "    for j in range(len(Kegg_id)):\n",
    "        y = Kegg_id.iloc[j].dropna()[3:].values\n",
    "        y = set(y)\n",
    "    \n",
    "        intersection = x & y\n",
    "        union = x | y\n",
    "        similary_per = round((len(intersection) / len(union)) * 100,0)\n",
    "        \n",
    "        if similary_per in all_info:\n",
    "            all_info[similary_per] = [all_info.get(similary_per),[i,j]]\n",
    "        else:\n",
    "            all_info[similary_per] = [i,j]"
   ]
  },
  {
   "cell_type": "code",
   "execution_count": 45,
   "metadata": {},
   "outputs": [],
   "source": [
    "percent = list(all_info.keys())\n",
    "percent.sort()"
   ]
  },
  {
   "cell_type": "code",
   "execution_count": 46,
   "metadata": {},
   "outputs": [
    {
     "data": {
      "text/plain": [
       "[0.0,\n",
       " 1.0,\n",
       " 2.0,\n",
       " 3.0,\n",
       " 4.0,\n",
       " 5.0,\n",
       " 6.0,\n",
       " 7.0,\n",
       " 8.0,\n",
       " 9.0,\n",
       " 10.0,\n",
       " 11.0,\n",
       " 12.0,\n",
       " 13.0,\n",
       " 14.0,\n",
       " 15.0,\n",
       " 16.0,\n",
       " 17.0,\n",
       " 18.0,\n",
       " 19.0,\n",
       " 20.0,\n",
       " 21.0,\n",
       " 22.0,\n",
       " 23.0,\n",
       " 24.0,\n",
       " 25.0,\n",
       " 26.0,\n",
       " 27.0,\n",
       " 28.0,\n",
       " 29.0,\n",
       " 30.0,\n",
       " 31.0,\n",
       " 32.0,\n",
       " 33.0,\n",
       " 34.0,\n",
       " 35.0,\n",
       " 36.0,\n",
       " 37.0,\n",
       " 38.0,\n",
       " 39.0,\n",
       " 40.0,\n",
       " 41.0,\n",
       " 42.0,\n",
       " 43.0,\n",
       " 44.0,\n",
       " 45.0,\n",
       " 46.0,\n",
       " 47.0,\n",
       " 48.0,\n",
       " 49.0,\n",
       " 50.0,\n",
       " 51.0,\n",
       " 52.0,\n",
       " 53.0,\n",
       " 54.0,\n",
       " 55.0,\n",
       " 56.0,\n",
       " 57.0,\n",
       " 58.0,\n",
       " 60.0,\n",
       " 61.0,\n",
       " 62.0,\n",
       " 63.0,\n",
       " 64.0,\n",
       " 66.0,\n",
       " 67.0,\n",
       " 68.0,\n",
       " 69.0,\n",
       " 70.0,\n",
       " 71.0,\n",
       " 72.0,\n",
       " 74.0,\n",
       " 76.0,\n",
       " 82.0,\n",
       " 86.0]"
      ]
     },
     "execution_count": 46,
     "metadata": {},
     "output_type": "execute_result"
    }
   ],
   "source": [
    "percent"
   ]
  },
  {
   "cell_type": "code",
   "execution_count": 72,
   "metadata": {
    "scrolled": true
   },
   "outputs": [
    {
     "data": {
      "text/plain": [
       "[[426, 77], [708, 71]]"
      ]
     },
     "execution_count": 72,
     "metadata": {},
     "output_type": "execute_result"
    }
   ],
   "source": [
    "percent\n",
    "all_info.get(69)"
   ]
  },
  {
   "cell_type": "code",
   "execution_count": 29,
   "metadata": {},
   "outputs": [],
   "source": [
    "Reactome_Sym = pd.read_excel(\"02_Reactome gene symbols.xlsx\",header = None)\n",
    "Kegg_Sym = pd.read_excel(\"04_KEGG gene sets and symbols.xlsx\",header = None)\n",
    "Biocarta_Sym = pd.read_excel(\"06_BioCarta gene symbols.xlsx\",header = None)"
   ]
  },
  {
   "cell_type": "code",
   "execution_count": 77,
   "metadata": {},
   "outputs": [
    {
     "name": "stdout",
     "output_type": "stream",
     "text": [
      "['REACTOME_SELENOAMINO_ACID_METABOLISM']\n",
      "['KEGG_RIBOSOME']\n"
     ]
    }
   ],
   "source": [
    "print(Reactome_Sym.iloc[708][:1].values)\n",
    "print(Kegg_Sym.iloc[71][:1].values)"
   ]
  },
  {
   "cell_type": "code",
   "execution_count": 78,
   "metadata": {},
   "outputs": [],
   "source": [
    "reac = Reactome_id.iloc[708].dropna()[3:].values\n",
    "reac.sort()\n",
    "reac = set(reac)"
   ]
  },
  {
   "cell_type": "code",
   "execution_count": 79,
   "metadata": {
    "scrolled": true
   },
   "outputs": [],
   "source": [
    "keg = Kegg_id.iloc[71].dropna()[3:].values\n",
    "keg.sort()\n",
    "keg = set(keg)"
   ]
  },
  {
   "cell_type": "code",
   "execution_count": 80,
   "metadata": {},
   "outputs": [
    {
     "name": "stdout",
     "output_type": "stream",
     "text": [
      "121 83\n"
     ]
    }
   ],
   "source": [
    "print(len(reac | keg), len(reac & keg))"
   ]
  },
  {
   "cell_type": "code",
   "execution_count": 84,
   "metadata": {},
   "outputs": [],
   "source": [
    "Reac_Keg = pd.concat([Reactome_id,Kegg_id],axis = 0)\n",
    "Reac_Keg.reset_index(drop = True, inplace = True)\n",
    "\n",
    "\n",
    "Reac_Keg_Sym = pd.concat([Reactome_Sym, Kegg_Sym], axis = 0)\n",
    "Reac_Keg_Sym.reset_index(drop = True, inplace = True)"
   ]
  },
  {
   "cell_type": "code",
   "execution_count": 92,
   "metadata": {},
   "outputs": [],
   "source": [
    "all_info2 = dict()\n",
    "for i in range(len(Reac_Keg)):\n",
    "    x = Reac_Keg.iloc[i].dropna()[3:].values\n",
    "    x = set(x)\n",
    "    for j in range(len(Biocarta_id)):\n",
    "        y = Biocarta_id.iloc[j].dropna()[3:].values\n",
    "        y = set(y)\n",
    "    \n",
    "        intersection = x & y\n",
    "        union = x | y\n",
    "        similary_per = round((len(intersection) / len(union)) * 100,0)\n",
    "        \n",
    "        if similary_per in all_info2:\n",
    "            all_info2[similary_per] = [all_info2.get(similary_per),[i,j]]\n",
    "        else:\n",
    "            all_info2[similary_per] = [i,j]"
   ]
  },
  {
   "cell_type": "code",
   "execution_count": 93,
   "metadata": {},
   "outputs": [],
   "source": [
    "percent2 =list(all_info2.keys())\n",
    "percent2.sort()"
   ]
  },
  {
   "cell_type": "code",
   "execution_count": 94,
   "metadata": {
    "scrolled": true
   },
   "outputs": [
    {
     "data": {
      "text/plain": [
       "[0.0,\n",
       " 1.0,\n",
       " 2.0,\n",
       " 3.0,\n",
       " 4.0,\n",
       " 5.0,\n",
       " 6.0,\n",
       " 7.0,\n",
       " 8.0,\n",
       " 9.0,\n",
       " 10.0,\n",
       " 11.0,\n",
       " 12.0,\n",
       " 13.0,\n",
       " 14.0,\n",
       " 15.0,\n",
       " 16.0,\n",
       " 17.0,\n",
       " 18.0,\n",
       " 19.0,\n",
       " 20.0,\n",
       " 21.0,\n",
       " 22.0,\n",
       " 23.0,\n",
       " 24.0,\n",
       " 25.0,\n",
       " 26.0,\n",
       " 27.0,\n",
       " 28.0,\n",
       " 29.0,\n",
       " 30.0,\n",
       " 31.0,\n",
       " 32.0,\n",
       " 33.0,\n",
       " 34.0,\n",
       " 35.0,\n",
       " 36.0,\n",
       " 37.0,\n",
       " 38.0,\n",
       " 39.0,\n",
       " 40.0,\n",
       " 42.0,\n",
       " 43.0,\n",
       " 44.0,\n",
       " 45.0,\n",
       " 50.0,\n",
       " 55.0,\n",
       " 56.0,\n",
       " 57.0,\n",
       " 80.0]"
      ]
     },
     "execution_count": 94,
     "metadata": {},
     "output_type": "execute_result"
    }
   ],
   "source": [
    "percent2"
   ]
  },
  {
   "cell_type": "code",
   "execution_count": 97,
   "metadata": {},
   "outputs": [
    {
     "data": {
      "text/plain": [
       "[1434, 96]"
      ]
     },
     "execution_count": 97,
     "metadata": {},
     "output_type": "execute_result"
    }
   ],
   "source": [
    "all_info2.get(55)"
   ]
  },
  {
   "cell_type": "code",
   "execution_count": 98,
   "metadata": {},
   "outputs": [
    {
     "name": "stdout",
     "output_type": "stream",
     "text": [
      "['REACTOME_INTERLEUKIN_21_SIGNALING']\n",
      "['BIOCARTA_IL22BP_PATHWAY']\n",
      "11 6\n"
     ]
    }
   ],
   "source": [
    "print(Reac_Keg_Sym.iloc[1434][:1].values)\n",
    "print(Biocarta_Sym.iloc[96][:1].values)\n",
    "\n",
    "reac = Reac_Keg.iloc[1434].dropna()[3:].values\n",
    "reac.sort()\n",
    "reac = set(reac)\n",
    "\n",
    "keg = Biocarta_id.iloc[96].dropna()[3:].values\n",
    "keg.sort()\n",
    "keg = set(keg)\n",
    "\n",
    "print(len(reac | keg), len(reac & keg))"
   ]
  },
  {
   "cell_type": "code",
   "execution_count": 89,
   "metadata": {},
   "outputs": [
    {
     "data": {
      "text/plain": [
       "0                                 BIOCARTA_AHSP_PATHWAY\n",
       "1     http://www.gsea-msigdb.org/gsea/msigdb/cards/B...\n",
       "2                                                 GATA1\n",
       "3                                                  ALAD\n",
       "4                                                  UROD\n",
       "                            ...                        \n",
       "78                                                  NaN\n",
       "79                                                  NaN\n",
       "80                                                  NaN\n",
       "81                                                  NaN\n",
       "82                                                  NaN\n",
       "Name: 78, Length: 83, dtype: object"
      ]
     },
     "execution_count": 89,
     "metadata": {},
     "output_type": "execute_result"
    }
   ],
   "source": [
    "Biocarta_Sym.iloc[78]"
   ]
  },
  {
   "cell_type": "code",
   "execution_count": null,
   "metadata": {},
   "outputs": [],
   "source": []
  }
 ],
 "metadata": {
  "kernelspec": {
   "display_name": "Python 3",
   "language": "python",
   "name": "python3"
  },
  "language_info": {
   "codemirror_mode": {
    "name": "ipython",
    "version": 3
   },
   "file_extension": ".py",
   "mimetype": "text/x-python",
   "name": "python",
   "nbconvert_exporter": "python",
   "pygments_lexer": "ipython3",
   "version": "3.7.6"
  }
 },
 "nbformat": 4,
 "nbformat_minor": 4
}
