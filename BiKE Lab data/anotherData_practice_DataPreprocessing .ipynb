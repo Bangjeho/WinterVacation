{
 "cells": [
  {
   "cell_type": "code",
   "execution_count": 1,
   "metadata": {},
   "outputs": [],
   "source": [
    "import pandas as pd\n",
    "import numpy as np\n",
    "import csv"
   ]
  },
  {
   "cell_type": "code",
   "execution_count": 2,
   "metadata": {},
   "outputs": [],
   "source": [
    "bio_list =[]\n",
    "\n",
    "def tsvfile_reader(filename):\n",
    "    for i in range(len(filename)):\n",
    "        f = open(filename[i], 'r', encoding = 'utf-8')\n",
    "        rdr = csv.reader(f,delimiter = '\\t')\n",
    "        for line in rdr:\n",
    "            bio_list.append(line)\n",
    "    return bio_list"
   ]
  },
  {
   "cell_type": "code",
   "execution_count": 3,
   "metadata": {},
   "outputs": [],
   "source": [
    "filename = ['gene_pathway.txt','gene_disease.txt',\"gene_drug.txt\"]\n",
    "bio_list = tsvfile_reader(filename)"
   ]
  },
  {
   "cell_type": "code",
   "execution_count": 4,
   "metadata": {},
   "outputs": [],
   "source": [
    "bio_dict = dict()\n",
    "\n",
    "def list_to_dict(bio_list):\n",
    "    for j in range(len(bio_list)):\n",
    "        if bio_list[j][0] in bio_dict:\n",
    "            data = bio_dict.get(bio_list[j][0])\n",
    "            bio_dict[bio_list[j][0]] = data+bio_list[j][1:]\n",
    "        else:\n",
    "            bio_dict[bio_list[j][0]] = bio_list[j][1:]\n",
    "    return bio_dict"
   ]
  },
  {
   "cell_type": "code",
   "execution_count": 5,
   "metadata": {},
   "outputs": [],
   "source": [
    "bio_info = list_to_dict(bio_list)\n",
    "gene = pd.DataFrame(bio_info.keys())\n",
    "path_dis_drug = pd.DataFrame(bio_info.values())"
   ]
  },
  {
   "cell_type": "code",
   "execution_count": 6,
   "metadata": {},
   "outputs": [],
   "source": [
    "all_info = pd.concat([gene,path_dis_drug],axis = 1)"
   ]
  },
  {
   "cell_type": "code",
   "execution_count": 19,
   "metadata": {},
   "outputs": [
    {
     "name": "stdout",
     "output_type": "stream",
     "text": [
      "<class 'pandas.core.frame.DataFrame'>\n",
      "RangeIndex: 16577 entries, 0 to 16576\n",
      "Columns: 1344 entries, 0 to 1342\n",
      "dtypes: object(1344)\n",
      "memory usage: 170.0+ MB\n"
     ]
    }
   ],
   "source": [
    "all_info.info()"
   ]
  },
  {
   "cell_type": "code",
   "execution_count": 17,
   "metadata": {},
   "outputs": [
    {
     "name": "stdout",
     "output_type": "stream",
     "text": [
      "row:  16577 column =  1116279\n"
     ]
    }
   ],
   "source": [
    "row = len(all_info)\n",
    "columns = 0\n",
    "for i in range(row):\n",
    "    columns += len(all_info.iloc[i].dropna()[1:])\n",
    "    \n",
    "print('row: ', row, 'column = ', columns)"
   ]
  },
  {
   "cell_type": "code",
   "execution_count": 8,
   "metadata": {},
   "outputs": [],
   "source": [
    "all_info.to_csv('gene_pathway_disease_drug.txt', sep = '\\t', header = None, index = None)"
   ]
  },
  {
   "cell_type": "code",
   "execution_count": null,
   "metadata": {},
   "outputs": [],
   "source": []
  }
 ],
 "metadata": {
  "kernelspec": {
   "display_name": "Python 3",
   "language": "python",
   "name": "python3"
  },
  "language_info": {
   "codemirror_mode": {
    "name": "ipython",
    "version": 3
   },
   "file_extension": ".py",
   "mimetype": "text/x-python",
   "name": "python",
   "nbconvert_exporter": "python",
   "pygments_lexer": "ipython3",
   "version": "3.7.6"
  }
 },
 "nbformat": 4,
 "nbformat_minor": 4
}
